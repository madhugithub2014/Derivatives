!pip3 install flask
!pip3 install flask_cors

from flask import Flask, jsonify, request
import numpy as np
from flask_cors import CORS 
import matplotlib.pyplot as plt
import pandas as pd
from yahoo_fin import options as op


app = Flask(__name__)
CORS_ALLOW_ORIGIN="*,*"
CORS_EXPOSE_HEADERS="*,*"
CORS_ALLOW_HEADERS="content-type,*"
cors = CORS(app, origins=CORS_ALLOW_ORIGIN.split(","), allow_headers=CORS_ALLOW_HEADERS.split(",") , expose_headers= CORS_EXPOSE_HEADERS.split(","),   supports_credentials = True)

# dictionary
#cache = dict()
#symbolCache = []

@mcs_bp.route("/neve")
def simulator_service():
    return "Up & Running !"

@mcs_bp.route("/neve/optionType/<string:option_type>")
def derivative_option(option_type):
    result = {
        "simulator type":"Monte Carlo Simulation",
        "Option type":option_type
    }
    return jsonify(result)

@mcs_bp.route("/neve/callOption/price/<spotPrice>/<strikePrice>/<time>/<volatility>/<steps>/<trials>")
def calculate_mcs(spotPrice,strikePrice,time,volatility,steps,trials):
       
        spotPrice = float(spotPrice)
        strikePrice = float(strikePrice)
        T = float(time)
        volatility = float(volatility)
        steps = int(steps)
        trials = int(trials)
        
        r = 0.05
        q = 0;
        
        paths= geo_paths(spotPrice,T,r,q,volatility,steps,trials)
        payoffs = np.maximum(paths[-1]-strikePrice, 0)
        option_price = np.mean(payoffs)*np.exp(-r*T)
        
        return jsonify(round(option_price, 2)) # return data with 200 OK

def geo_paths(S, T, r, q, sigma, steps, N):
    """
    Inputs
    #S = Current stock Price
    #K = Strike Price
    #T = Time to maturity 1 year = 1, 1 months = 1/12
    #r = risk free interest rate
    #q = dividend yield
    # sigma = volatility 
    
    Output
    # [steps,N] Matrix of asset paths 
    """
    dt = T/steps
    ST = np.log(S) +  np.cumsum(((r - q - sigma**2/2)*dt +\
                              sigma*np.sqrt(dt) * \
                              np.random.normal(size=(steps,N))),axis=0)
    
    return np.exp(ST)

@mcs_bp.route("/neve/symbols")
def get_symbols():
    sp_wiki_url = "https://en.wikipedia.org/wiki/List_of_S%26P_500_companies"
    sp_wiki_df_list = pd.read_html(sp_wiki_url)
    sp_df = sp_wiki_df_list[0]
    return jsonify(list(sp_df['Symbol'].values))

@mcs_bp.route("/neve/symbol/details/<ticker>")
def get_ticker_details(ticker):
    expDate = op.get_expiration_dates(ticker)
    callsData = op.get_calls(ticker,expDate[0]).head(1)
    tickerDetails = {}
    tickerDetails['lastTradeDate'] = callsData['Last Trade Date'].iloc[0]
    tickerDetails['currentPrice'] = callsData['Last Price'].iloc[0]
    tickerDetails['strikePrice'] = callsData['Strike'].iloc[0]
    tickerDetails['expiryDate'] = expDate[0]
    tickerDetails['impliedVolatility'] = callsData['Implied Volatility'].iloc[0]
    tickerDetails['bid'] = callsData['Bid'].iloc[0]
    tickerDetails['ask'] = callsData['Ask'].iloc[0]
    
    return tickerDetails

if __name__ == '__main__':
    app.register_blueprint(mcs_bp, url_prefix='/neve')
    app.run()  # run our Flask app
    #app.run(host='0.0.0.0',port=8080)
