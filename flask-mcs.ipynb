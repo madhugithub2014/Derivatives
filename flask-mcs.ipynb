{
 "cells": [
  {
   "cell_type": "code",
   "execution_count": 1,
   "id": "469df082-ac4d-4a18-abcd-e990582664a7",
   "metadata": {
    "scrolled": false
   },
   "outputs": [
    {
     "name": "stdout",
     "output_type": "stream",
     "text": [
      "Requirement already satisfied: flask in c:\\users\\gunja\\anaconda3\\lib\\site-packages (2.2.2)\n",
      "Requirement already satisfied: Werkzeug>=2.2.2 in c:\\users\\gunja\\anaconda3\\lib\\site-packages (from flask) (2.2.3)\n",
      "Requirement already satisfied: Jinja2>=3.0 in c:\\users\\gunja\\anaconda3\\lib\\site-packages (from flask) (3.1.2)\n",
      "Requirement already satisfied: itsdangerous>=2.0 in c:\\users\\gunja\\anaconda3\\lib\\site-packages (from flask) (2.0.1)\n",
      "Requirement already satisfied: click>=8.0 in c:\\users\\gunja\\anaconda3\\lib\\site-packages (from flask) (8.0.4)\n",
      "Requirement already satisfied: colorama in c:\\users\\gunja\\anaconda3\\lib\\site-packages (from click>=8.0->flask) (0.4.6)\n",
      "Requirement already satisfied: MarkupSafe>=2.0 in c:\\users\\gunja\\anaconda3\\lib\\site-packages (from Jinja2>=3.0->flask) (2.1.1)\n",
      "Requirement already satisfied: flask_cors in c:\\users\\gunja\\anaconda3\\lib\\site-packages (4.0.0)\n",
      "Requirement already satisfied: Flask>=0.9 in c:\\users\\gunja\\anaconda3\\lib\\site-packages (from flask_cors) (2.2.2)\n",
      "Requirement already satisfied: Werkzeug>=2.2.2 in c:\\users\\gunja\\anaconda3\\lib\\site-packages (from Flask>=0.9->flask_cors) (2.2.3)\n",
      "Requirement already satisfied: Jinja2>=3.0 in c:\\users\\gunja\\anaconda3\\lib\\site-packages (from Flask>=0.9->flask_cors) (3.1.2)\n",
      "Requirement already satisfied: itsdangerous>=2.0 in c:\\users\\gunja\\anaconda3\\lib\\site-packages (from Flask>=0.9->flask_cors) (2.0.1)\n",
      "Requirement already satisfied: click>=8.0 in c:\\users\\gunja\\anaconda3\\lib\\site-packages (from Flask>=0.9->flask_cors) (8.0.4)\n",
      "Requirement already satisfied: colorama in c:\\users\\gunja\\anaconda3\\lib\\site-packages (from click>=8.0->Flask>=0.9->flask_cors) (0.4.6)\n",
      "Requirement already satisfied: MarkupSafe>=2.0 in c:\\users\\gunja\\anaconda3\\lib\\site-packages (from Jinja2>=3.0->Flask>=0.9->flask_cors) (2.1.1)\n"
     ]
    }
   ],
   "source": [
    "!pip3 install flask\n",
    "!pip3 install flask_cors"
   ]
  },
  {
   "cell_type": "code",
   "execution_count": 2,
   "id": "aa64a9b6-50bc-4ad6-942a-8ff89a8a4329",
   "metadata": {},
   "outputs": [],
   "source": [
    "from flask import Flask, jsonify, request\n",
    "import numpy as np\n",
    "from flask_cors import CORS \n",
    "import matplotlib.pyplot as plt\n",
    "import pandas as pd\n",
    "from yahoo_fin import options as op"
   ]
  },
  {
   "cell_type": "code",
   "execution_count": 3,
   "id": "423ce0c4-2684-41e4-9266-43d4acf6e7d4",
   "metadata": {},
   "outputs": [],
   "source": [
    "app = Flask(__name__)\n",
    "CORS_ALLOW_ORIGIN=\"*,*\"\n",
    "CORS_EXPOSE_HEADERS=\"*,*\"\n",
    "CORS_ALLOW_HEADERS=\"content-type,*\"\n",
    "cors = CORS(app, origins=CORS_ALLOW_ORIGIN.split(\",\"), allow_headers=CORS_ALLOW_HEADERS.split(\",\") , expose_headers= CORS_EXPOSE_HEADERS.split(\",\"),   supports_credentials = True)"
   ]
  },
  {
   "cell_type": "code",
   "execution_count": 4,
   "id": "a90de6fc-850c-421b-a018-e72c8c0de0bb",
   "metadata": {},
   "outputs": [],
   "source": [
    "@app.route(\"/\")\n",
    "def simulator_service():\n",
    "    return \"Up & Running !\"\n",
    "\n",
    "@app.route(\"/neve/mcs/<string:option_type>\")\n",
    "def derivative_option(option_type):\n",
    "    result = {\n",
    "        \"simulator type\":\"Monte Carlo Simulation\",\n",
    "        \"Option type\":option_type\n",
    "    }\n",
    "    return jsonify(result)\n",
    "\n",
    "@app.route(\"/neve/mcs/price/<spotPrice>/<strikePrice>/<time>/<volatility>/<steps>/<trials>\")\n",
    "def calculate_mcs(spotPrice,strikePrice,time,volatility,steps,trials):\n",
    "       \n",
    "        spotPrice = float(spotPrice)\n",
    "        strikePrice = float(strikePrice)\n",
    "        T = float(time)\n",
    "        volatility = float(volatility)\n",
    "        steps = int(steps)\n",
    "        trials = int(trials)\n",
    "        \n",
    "        r = 0.1\n",
    "        q = 0.1;\n",
    "        \n",
    "        paths= geo_paths(spotPrice,T,r,q,volatility,steps,trials)\n",
    "        payoffs = np.maximum(paths[-1]-strikePrice, 0)\n",
    "        option_price = np.mean(payoffs)*np.exp(-r*T)\n",
    "        \n",
    "        return jsonify(option_price) # return data with 200 OK"
   ]
  },
  {
   "cell_type": "code",
   "execution_count": 5,
   "id": "84bc75d9-6429-4d0b-bce9-ec52457f0a3b",
   "metadata": {},
   "outputs": [],
   "source": [
    "def geo_paths(S, T, r, q, sigma, steps, N):\n",
    "    \"\"\"\n",
    "    Inputs\n",
    "    #S = Current stock Price\n",
    "    #K = Strike Price\n",
    "    #T = Time to maturity 1 year = 1, 1 months = 1/12\n",
    "    #r = risk free interest rate\n",
    "    #q = dividend yield\n",
    "    # sigma = volatility \n",
    "    \n",
    "    Output\n",
    "    # [steps,N] Matrix of asset paths \n",
    "    \"\"\"\n",
    "    dt = T/steps\n",
    "    ST = np.log(S) +  np.cumsum(((r - q - sigma**2/2)*dt +\\\n",
    "                              sigma*np.sqrt(dt) * \\\n",
    "                              np.random.normal(size=(steps,N))),axis=0)\n",
    "    \n",
    "    return np.exp(ST)"
   ]
  },
  {
   "cell_type": "code",
   "execution_count": 6,
   "id": "e5677fae-6d6e-4516-9e33-eda8f07d37bd",
   "metadata": {},
   "outputs": [],
   "source": [
    "@app.route(\"/neve/symbols\")\n",
    "def get_symbols():\n",
    "    sp_wiki_url = \"https://en.wikipedia.org/wiki/List_of_S%26P_500_companies\"\n",
    "    sp_wiki_df_list = pd.read_html(sp_wiki_url)\n",
    "    sp_df = sp_wiki_df_list[0]\n",
    "    return jsonify(list(sp_df['Symbol'].values))"
   ]
  },
  {
   "cell_type": "code",
   "execution_count": 7,
   "id": "78cce25c-b6b4-4941-9c6a-115517a95cd8",
   "metadata": {},
   "outputs": [],
   "source": [
    "@app.route(\"/neve/symbol/details/<ticker>\")\n",
    "def get_ticker_details(ticker):\n",
    "    expDate = op.get_expiration_dates(ticker)\n",
    "    callsData = op.get_calls(ticker,expDate[0]).head(1)\n",
    "    tickerDetails = {}\n",
    "    tickerDetails['lastTradeDate'] = callsData['Last Trade Date'].iloc[0]\n",
    "    tickerDetails['currentPrice'] = callsData['Last Price'].iloc[0]\n",
    "    tickerDetails['strikePrice'] = callsData['Strike'].iloc[0]\n",
    "    tickerDetails['expiryDate'] = expDate[0]\n",
    "    tickerDetails['impliedVolatility'] = callsData['Implied Volatility'].iloc[0]\n",
    "    tickerDetails['bid'] = callsData['Bid'].iloc[0]\n",
    "    tickerDetails['ask'] = callsData['Ask'].iloc[0]\n",
    "    \n",
    "    return tickerDetails"
   ]
  },
  {
   "cell_type": "code",
   "execution_count": null,
   "id": "c142873d-edb0-4d75-804d-c95d492178b8",
   "metadata": {},
   "outputs": [
    {
     "name": "stdout",
     "output_type": "stream",
     "text": [
      " * Serving Flask app '__main__'\n",
      " * Debug mode: off\n"
     ]
    },
    {
     "name": "stderr",
     "output_type": "stream",
     "text": [
      "WARNING: This is a development server. Do not use it in a production deployment. Use a production WSGI server instead.\n",
      " * Running on all addresses (0.0.0.0)\n",
      " * Running on http://127.0.0.1:5000\n",
      " * Running on http://192.168.1.34:5000\n",
      "Press CTRL+C to quit\n",
      "192.168.1.34 - - [23/Jul/2023 20:09:22] \"GET /neve/symbols HTTP/1.1\" 200 -\n",
      "192.168.1.34 - - [23/Jul/2023 20:10:41] \"GET /neve/symbol/details/AES HTTP/1.1\" 200 -\n",
      "192.168.1.34 - - [23/Jul/2023 20:10:49] \"GET /neve/symbols HTTP/1.1\" 200 -\n",
      "192.168.1.34 - - [23/Jul/2023 20:10:56] \"GET /neve/mcs/price/615/620/0.01/0.2/200/1000 HTTP/1.1\" 200 -\n",
      "192.168.1.34 - - [23/Jul/2023 20:11:09] \"POST /neve/predict HTTP/1.1\" 404 -\n"
     ]
    }
   ],
   "source": [
    "if __name__ == '__main__':\n",
    "    #app.run()  # run our Flask app\n",
    "    app.run(host='0.0.0.0',port=5000)"
   ]
  },
  {
   "cell_type": "code",
   "execution_count": null,
   "id": "81a656db-5d07-4fe3-8203-9ae02f794449",
   "metadata": {},
   "outputs": [],
   "source": []
  },
  {
   "cell_type": "code",
   "execution_count": null,
   "id": "1d0c69b4",
   "metadata": {},
   "outputs": [],
   "source": []
  },
  {
   "cell_type": "code",
   "execution_count": null,
   "id": "970ed135",
   "metadata": {},
   "outputs": [],
   "source": []
  }
 ],
 "metadata": {
  "kernelspec": {
   "display_name": "Python 3 (ipykernel)",
   "language": "python",
   "name": "python3"
  },
  "language_info": {
   "codemirror_mode": {
    "name": "ipython",
    "version": 3
   },
   "file_extension": ".py",
   "mimetype": "text/x-python",
   "name": "python",
   "nbconvert_exporter": "python",
   "pygments_lexer": "ipython3",
   "version": "3.11.3"
  },
  "toc-autonumbering": false,
  "toc-showmarkdowntxt": false,
  "toc-showtags": false
 },
 "nbformat": 4,
 "nbformat_minor": 5
}
