{
 "cells": [
  {
   "cell_type": "code",
   "execution_count": 1,
   "id": "469df082-ac4d-4a18-abcd-e990582664a7",
   "metadata": {},
   "outputs": [
    {
     "name": "stdout",
     "output_type": "stream",
     "text": [
      "Defaulting to user installation because normal site-packages is not writeable\n",
      "Looking in links: /usr/share/pip-wheels\n",
      "Requirement already satisfied: flask in /opt/conda/envs/anaconda-2022.05-py39/lib/python3.9/site-packages (1.1.2)\n",
      "Requirement already satisfied: itsdangerous>=0.24 in /opt/conda/envs/anaconda-2022.05-py39/lib/python3.9/site-packages (from flask) (2.0.1)\n",
      "Requirement already satisfied: Werkzeug>=0.15 in /opt/conda/envs/anaconda-2022.05-py39/lib/python3.9/site-packages (from flask) (2.0.3)\n",
      "Requirement already satisfied: Jinja2>=2.10.1 in /opt/conda/envs/anaconda-2022.05-py39/lib/python3.9/site-packages (from flask) (2.11.3)\n",
      "Requirement already satisfied: click>=5.1 in /opt/conda/envs/anaconda-2022.05-py39/lib/python3.9/site-packages (from flask) (8.0.4)\n",
      "Requirement already satisfied: MarkupSafe>=0.23 in /opt/conda/envs/anaconda-2022.05-py39/lib/python3.9/site-packages (from Jinja2>=2.10.1->flask) (2.0.1)\n"
     ]
    }
   ],
   "source": [
    "!pip3 install flask"
   ]
  },
  {
   "cell_type": "code",
   "execution_count": 2,
   "id": "aa64a9b6-50bc-4ad6-942a-8ff89a8a4329",
   "metadata": {},
   "outputs": [],
   "source": [
    "from flask import Flask, jsonify, request\n",
    "import numpy as np\n",
    "import matplotlib.pyplot as plt\n",
    "import pandas as pd\n",
    "from yahoo_fin import options as op"
   ]
  },
  {
   "cell_type": "code",
   "execution_count": 3,
   "id": "423ce0c4-2684-41e4-9266-43d4acf6e7d4",
   "metadata": {},
   "outputs": [],
   "source": [
    "app = Flask(__name__)"
   ]
  },
  {
   "cell_type": "code",
   "execution_count": 4,
   "id": "a90de6fc-850c-421b-a018-e72c8c0de0bb",
   "metadata": {},
   "outputs": [],
   "source": [
    "@app.route(\"/\")\n",
    "def simulator_service():\n",
    "    return \"Up & Running !\"\n",
    "\n",
    "\n",
    "@app.route(\"/mcs/<string:option_type>\")\n",
    "def derivative_option(option_type):\n",
    "    result = {\n",
    "        \"simulator type\":\"Monte Carlo Simulation\",\n",
    "        \"Option type\":option_type\n",
    "    }\n",
    "    return jsonify(result)\n",
    "\n",
    "@app.route(\"/mcs/price/<spotPrice>/<strikePrice>/<time>/<volatility>/<steps>/<trials>\")\n",
    "def calculate_mcs(spotPrice,strikePrice,time,volatility,steps,trials):\n",
    "       \n",
    "        spotPrice = float(spotPrice)\n",
    "        strikePrice = float(strikePrice)\n",
    "        T = int(time)\n",
    "        volatility = float(volatility)\n",
    "        steps = int(steps)\n",
    "        trials = int(trials)\n",
    "        \n",
    "        r = 0\n",
    "        q = 0;\n",
    "        \n",
    "        paths= geo_paths(spotPrice,T,r,q,volatility,steps,trials)\n",
    "        payoffs = np.maximum(paths[-1]-strikePrice, 0)\n",
    "        option_price = np.mean(payoffs)*np.exp(-r*T)\n",
    "        \n",
    "        return jsonify(option_price) # return data with 200 OK"
   ]
  },
  {
   "cell_type": "code",
   "execution_count": 5,
   "id": "84bc75d9-6429-4d0b-bce9-ec52457f0a3b",
   "metadata": {},
   "outputs": [],
   "source": [
    "def geo_paths(S, T, r, q, sigma, steps, N):\n",
    "    \"\"\"\n",
    "    Inputs\n",
    "    #S = Current stock Price\n",
    "    #K = Strike Price\n",
    "    #T = Time to maturity 1 year = 1, 1 months = 1/12\n",
    "    #r = risk free interest rate\n",
    "    #q = dividend yield\n",
    "    # sigma = volatility \n",
    "    \n",
    "    Output\n",
    "    # [steps,N] Matrix of asset paths \n",
    "    \"\"\"\n",
    "    dt = T/steps\n",
    "    ST = np.log(S) +  np.cumsum(((r - q - sigma**2/2)*dt +\\\n",
    "                              sigma*np.sqrt(dt) * \\\n",
    "                              np.random.normal(size=(steps,N))),axis=0)\n",
    "    \n",
    "    return np.exp(ST)"
   ]
  },
  {
   "cell_type": "code",
   "execution_count": 6,
   "id": "e5677fae-6d6e-4516-9e33-eda8f07d37bd",
   "metadata": {},
   "outputs": [],
   "source": [
    "@app.route(\"/symbols\")\n",
    "def get_symbols():\n",
    "    sp_wiki_url = \"https://en.wikipedia.org/wiki/List_of_S%26P_500_companies\"\n",
    "    sp_wiki_df_list = pd.read_html(sp_wiki_url)\n",
    "    sp_df = sp_wiki_df_list[0]\n",
    "    return jsonify(list(sp_df['Symbol'].values))"
   ]
  },
  {
   "cell_type": "code",
   "execution_count": 7,
   "id": "c5813dd1-a3d1-4095-8859-7834e1e5b92f",
   "metadata": {},
   "outputs": [
    {
     "name": "stdout",
     "output_type": "stream",
     "text": [
      "for ticker =>           Contract Name        Last Trade Date  Strike  Last Price   Bid  Ask  \\\n",
      "0  AAPL230721C00050000  2023-07-17 3:22PM EDT    50.0      144.15  0.00  0.0   \n",
      "\n",
      "   Change % Change  Volume  Open Interest Implied Volatility  \n",
      "0     0.0        -       2              0              0.00%  \n"
     ]
    }
   ],
   "source": [
    "ticker = 'AAPL'\n",
    "expDate = op.get_expiration_dates(ticker)\n",
    "callsData = op.get_calls(ticker,expDate[0]).head(1)\n",
    "print(\"for ticker => \",callsData)"
   ]
  },
  {
   "cell_type": "code",
   "execution_count": 8,
   "id": "fe2ed648-240c-4556-b7ce-1c5e5cfb27f7",
   "metadata": {},
   "outputs": [
    {
     "data": {
      "text/plain": [
       "Index(['Contract Name', 'Last Trade Date', 'Strike', 'Last Price', 'Bid',\n",
       "       'Ask', 'Change', '% Change', 'Volume', 'Open Interest',\n",
       "       'Implied Volatility'],\n",
       "      dtype='object')"
      ]
     },
     "execution_count": 8,
     "metadata": {},
     "output_type": "execute_result"
    }
   ],
   "source": [
    "callsData.columns"
   ]
  },
  {
   "cell_type": "code",
   "execution_count": 9,
   "id": "78cce25c-b6b4-4941-9c6a-115517a95cd8",
   "metadata": {},
   "outputs": [],
   "source": [
    "@app.route(\"/symbol/details/<ticker>\")\n",
    "def get_ticker_details(ticker):\n",
    "    expDate = op.get_expiration_dates(ticker)\n",
    "    callsData = op.get_calls(ticker,expDate[0]).head(1)\n",
    "    return callsData.to_json()"
   ]
  },
  {
   "cell_type": "code",
   "execution_count": null,
   "id": "c142873d-edb0-4d75-804d-c95d492178b8",
   "metadata": {},
   "outputs": [
    {
     "name": "stdout",
     "output_type": "stream",
     "text": [
      " * Serving Flask app \"__main__\" (lazy loading)\n",
      " * Environment: production\n",
      "\u001b[31m   WARNING: This is a development server. Do not use it in a production deployment.\u001b[0m\n",
      "\u001b[2m   Use a production WSGI server instead.\u001b[0m\n",
      " * Debug mode: off\n"
     ]
    },
    {
     "name": "stderr",
     "output_type": "stream",
     "text": [
      " * Running on http://127.0.0.1:5000/ (Press CTRL+C to quit)\n",
      "127.0.0.1 - - [18/Jul/2023 04:56:02] \"GET /symbol/details/AAPL HTTP/1.1\" 200 -\n"
     ]
    }
   ],
   "source": [
    "if __name__ == '__main__':\n",
    "    app.run()  # run our Flask app\n",
    "    #app.run(host='0.0.0.0',port=8080)"
   ]
  },
  {
   "cell_type": "code",
   "execution_count": null,
   "id": "81a656db-5d07-4fe3-8203-9ae02f794449",
   "metadata": {},
   "outputs": [],
   "source": []
  }
 ],
 "metadata": {
  "kernelspec": {
   "display_name": "anaconda-2022.05-py39",
   "language": "python",
   "name": "conda-env-anaconda-2022.05-py39-py"
  },
  "language_info": {
   "codemirror_mode": {
    "name": "ipython",
    "version": 3
   },
   "file_extension": ".py",
   "mimetype": "text/x-python",
   "name": "python",
   "nbconvert_exporter": "python",
   "pygments_lexer": "ipython3",
   "version": "3.9.12"
  },
  "toc-autonumbering": false,
  "toc-showmarkdowntxt": false,
  "toc-showtags": false
 },
 "nbformat": 4,
 "nbformat_minor": 5
}
